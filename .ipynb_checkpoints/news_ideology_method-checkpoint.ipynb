{
 "cells": [
  {
   "cell_type": "code",
   "execution_count": 2,
   "metadata": {
    "collapsed": true
   },
   "outputs": [],
   "source": [
    "from random import shuffle\n",
    "import phrasemachine\n",
    "import glob\n",
    "import io\n",
    "from bs4 import BeautifulSoup\n",
    "import requests\n",
    "from time import sleep\n",
    "from collections import Counter\n",
    "from twitter_dm.utility.general_utils import tab_stringify_newline as tsn\n",
    "import io\n",
    "import os\n",
    "import yaml\n",
    "import pandas as pd\n",
    "import numpy as np\n",
    "\n",
    "import seaborn as sns\n",
    "%matplotlib inline\n",
    "\n",
    "PATH_TO_ARTICLES = \"/home/tcoleman/reportersOnTwitter/articles/\"\n",
    "\n",
    "phrasemachine.get_phrases('phrasemachine is working now sweet',tagger='spacy',minlen=1,maxlen=5)"
   ]
  },
  {
   "cell_type": "code",
   "execution_count": 4,
   "metadata": {
    "collapsed": true
   },
   "outputs": [],
   "source": [
    "# Set of left/right leaning terms\n",
    "\n",
    "dem_terms = set(['assault weapons', 'bigotry', 'cancer screenings', 'carbon pollution', 'cents for every dollar', 'childhood education', 'communities of color', 'democratic caucus', 'early childhood education', 'effects of climate change', 'equal access', 'equal pay', 'equal rights', 'equal work', \n",
    " 'extreme weather', 'fair pay', 'federal investment', 'federal minimum wage', 'gun violence prevention', 'income inequality', 'inequality', 'lgbt', 'lgbtq', 'marriage equality', 'mass shootings', 'millions of women', 'pay for equal work', 'paycheck fairness', 'pell grants', 'people of color', \n",
    "'preventive health', 'public transit', 'reproductive health', 'reproductive rights', 'sexual orientation', 'universal background checks', 'violence prevention', 'voting rights act', 'wage gap', \n",
    "'access to the ballot box', 'affordable housing', 'big oil', 'billionaires', 'birth control', 'campaign finance', \n",
    "'civil rights movement', 'clean energy', 'college affordability', 'community policing', 'comprehensive immigration reform', 'confederate flag', 'consumer protections', 'crisis in flint', 'deadliest mass shooting', 'dreamers', 'early voting'])\n",
    "\n",
    "rep_terms = set(['agreement review act', 'american security against foreign enemies', 'amnesty', 'balanced budget', \n",
    "                 'big government', 'burdensome regulations', 'bureaucracy', 'bureaucrats', 'capable unborn child protection act', \n",
    "                 'common core', 'compliance costs', 'deal with iran', 'death tax', 'death to america', 'defund planned parenthood',\n",
    "                 'detainees', 'executive overreach', 'federal bureaucrats', 'foreign enemies', 'government regulations', \n",
    "                 'guantanamo bay', 'healthcare freedom reconciliation', 'human life', 'illegal immigrants', 'iran deal', \n",
    "                 'iran nuclear agreement review', 'islamic terrorism', 'job creators', 'mandates', 'medical device tax', \n",
    "                 'national debt', 'new regulations', 'nuclear agreement review act', 'nuclear deal', 'overreach',\n",
    "                 'overregulation', 'planned parenthood act', 'power grab', 'power of the purse', 'red tape', 'regulatory burden',\n",
    "                 'regulatory burdens', 'regulatory overreach', 'reins act', 'sanctity', 'separation of powers', 'sponsor of terror',\n",
    "                 'sponsor of terrorism', 'tax code', 'tax increases', 'taxpayer funding', 'unborn child', 'unborn children',\n",
    "                 'unelected bureaucrats', 'washington bureaucrats', 'waters of the united'])\n",
    "\n",
    "all_terms = dem_terms | rep_terms"
   ]
  },
  {
   "cell_type": "code",
   "execution_count": 11,
   "metadata": {
    "collapsed": true
   },
   "outputs": [],
   "source": [
    "# function to extract phrases from an article for a given reporter \n",
    "def gen_res_reporter(dirname):\n",
    "    print dirname\n",
    "    files = glob.glob(dirname+\"/*\")\n",
    "    res = []\n",
    "    n_fils = 0\n",
    "    for fil in files:\n",
    "        text = io.open(fil).read()\n",
    "        if len(text.split()) < 200:\n",
    "            continue\n",
    "        n_fils += 1\n",
    "        phrases =  [ (k,v) for k,v in phrasemachine.get_phrases(text,tagger='spacy',minlen=1,maxlen=5)['counts'].items()\n",
    "                    if k in all_terms]\n",
    "        if len(phrases):\n",
    "            res.append(phrases)\n",
    "    return dirname.split(\"/\")[-2:], res, n_fils\n"
   ]
  },
  {
   "cell_type": "code",
   "execution_count": 28,
   "metadata": {
    "collapsed": true
   },
   "outputs": [],
   "source": [
    "# Get authors that fit our inclusion criteria from larger set for analysis\n",
    "authors_considered = pd.read_csv(\"data/authors_considered_agency.csv\")\n",
    "files_for_authors_considered = []\n",
    "for i, row in authors_considered.iterrows():\n",
    "    fil = os.path.join(PATH_TO_ARTICLES,row['agency'],row['author'])\n",
    "    files_for_authors_considered.append(fil)"
   ]
  },
  {
   "cell_type": "code",
   "execution_count": null,
   "metadata": {
    "collapsed": true
   },
   "outputs": [],
   "source": [
    "from multiprocessing import Pool\n",
    "p = Pool(15)\n",
    "tot_res = p.map(gen_res_reporter, files_for_authors_considered)\n",
    "p.close()\n",
    "p.terminate()"
   ]
  },
  {
   "cell_type": "code",
   "execution_count": 31,
   "metadata": {
    "collapsed": true
   },
   "outputs": [],
   "source": [
    "df = []\n",
    "for r in tot_res:\n",
    "    df += [ r[0]+list(y)+[i,r[2]] for i,x in enumerate(r[1]) for y in x]\n",
    "\n",
    "df = pd.DataFrame(df)\n",
    "df.columns = ['agency','author','term','n_count','article','total_articles']"
   ]
  },
  {
   "cell_type": "code",
   "execution_count": 32,
   "metadata": {
    "collapsed": false
   },
   "outputs": [
    {
     "data": {
      "text/plain": [
       "author    676\n",
       "agency     25\n",
       "dtype: int64"
      ]
     },
     "execution_count": 32,
     "metadata": {},
     "output_type": "execute_result"
    }
   ],
   "source": [
    "df[['author','agency']].nunique()"
   ]
  },
  {
   "cell_type": "code",
   "execution_count": 33,
   "metadata": {
    "collapsed": true
   },
   "outputs": [],
   "source": [
    "term_dict = pd.DataFrame( [(t,'dem') for t in dem_terms] + [(t,'rep') for t in rep_terms],columns=['term','leaning'])"
   ]
  },
  {
   "cell_type": "code",
   "execution_count": 34,
   "metadata": {
    "collapsed": true
   },
   "outputs": [],
   "source": [
    "df = pd.merge(df,term_dict,on=\"term\")"
   ]
  },
  {
   "cell_type": "code",
   "execution_count": 35,
   "metadata": {
    "collapsed": true
   },
   "outputs": [],
   "source": [
    "df2 = df.groupby(['agency','author','leaning','total_articles']).n_count.sum().reset_index()"
   ]
  },
  {
   "cell_type": "code",
   "execution_count": 37,
   "metadata": {
    "collapsed": true
   },
   "outputs": [],
   "source": [
    "df2 = pd.pivot_table(df2, 'n_count',['author','agency','total_articles'],'leaning').reset_index()"
   ]
  },
  {
   "cell_type": "code",
   "execution_count": 38,
   "metadata": {
    "collapsed": true
   },
   "outputs": [],
   "source": [
    "df2 = df2.fillna(0)"
   ]
  },
  {
   "cell_type": "code",
   "execution_count": 40,
   "metadata": {
    "collapsed": true
   },
   "outputs": [],
   "source": [
    "df2['lo'] = np.log((df2.dem+1)/(df2.rep+1))"
   ]
  },
  {
   "cell_type": "code",
   "execution_count": null,
   "metadata": {
    "collapsed": true
   },
   "outputs": [],
   "source": [
    "a_count = df.groupby(\"author\").article.nunique().reset_index()\n",
    "authors = a_count[a_count.article > 10].author\n",
    "\n",
    "agency_counts = df2[df2.author.isin(authors)].groupby(\"agency\").size().reset_index()\n",
    "agency_counts.columns = ['agency','n_journalists']\n",
    "agencies = agency_counts[agency_counts.n_journalists >= 5].agency"
   ]
  },
  {
   "cell_type": "code",
   "execution_count": null,
   "metadata": {
    "collapsed": true
   },
   "outputs": [],
   "source": [
    "df2[df2.agency.isin(agencies) & df2.author.isin(authors)].groupby(\"agency\").lo.mean().sort_values()"
   ]
  },
  {
   "cell_type": "code",
   "execution_count": null,
   "metadata": {
    "collapsed": true
   },
   "outputs": [],
   "source": [
    "df2[df2.agency.isin(agencies) & df2.author.isin(authors)].to_csv(\"lo.csv\")"
   ]
  }
 ],
 "metadata": {
  "anaconda-cloud": {},
  "kernelspec": {
   "display_name": "Python 2",
   "language": "python",
   "name": "python2"
  },
  "language_info": {
   "codemirror_mode": {
    "name": "ipython",
    "version": 2
   },
   "file_extension": ".py",
   "mimetype": "text/x-python",
   "name": "python",
   "nbconvert_exporter": "python",
   "pygments_lexer": "ipython2",
   "version": "2.7.11"
  }
 },
 "nbformat": 4,
 "nbformat_minor": 2
}
