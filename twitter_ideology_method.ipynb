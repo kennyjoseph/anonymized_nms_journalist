{
 "cells": [
  {
   "cell_type": "code",
   "execution_count": 1,
   "metadata": {
    "collapsed": true
   },
   "outputs": [],
   "source": []
  },
  {
   "cell_type": "code",
   "execution_count": 2,
   "metadata": {
    "collapsed": true
   },
   "outputs": [],
   "source": [
    "import glob\n",
    "from os.path import basename\n",
    "import io\n",
    "from twitter_dm.Tweet import Tweet, world_geocode_tweet\n",
    "import re\n",
    "from twitter_dm.TwitterUser import TwitterUser\n",
    "from igraph import *\n",
    "from collections import Counter\n",
    "import numpy as np\n",
    "import pickle\n",
    "import ujson as json\n",
    "from datetime import datetime\n",
    "from twitter_dm.utility.tweet_utils import classify_language\n",
    "import pandas as pd\n",
    "import scipy\n",
    "from collections import Counter\n",
    "import seaborn as sns\n",
    "from twitter_dm.utility.general_utils import tab_stringify_newline as tsn\n",
    "import yaml\n",
    "from twitter_dm.multiprocess.WorkerSimpleUserLookup import read_simple_user_info\n",
    "from scipy.spatial.distance import pdist,squareform\n",
    "from scipy.sparse.linalg import svds \n",
    "from sklearn.metrics.pairwise import cosine_similarity, manhattan_distances\n",
    "from scipy import stats\n",
    "from sklearn.preprocessing import scale\n",
    "import matplotlib.pyplot as plt\n",
    "\n",
    "%matplotlib inline"
   ]
  },
  {
   "cell_type": "markdown",
   "metadata": {},
   "source": [
    "# Load in Reporter Data"
   ]
  },
  {
   "cell_type": "code",
   "execution_count": 2,
   "metadata": {
    "collapsed": false
   },
   "outputs": [],
   "source": [
    "# get basic Twitter information\n",
    "basic_info = read_simple_user_info(\"data/basic_twitter_info.tsv\")"
   ]
  },
  {
   "cell_type": "code",
   "execution_count": 3,
   "metadata": {
    "collapsed": false
   },
   "outputs": [],
   "source": [
    "# get basic muckrack information\n",
    "writers_only = []\n",
    "for f in glob.glob(\"data/writersHandles/*\"):\n",
    "    org = basename(f).replace(\"_Handles.csv\",\"\")\n",
    "    dat = pd.read_csv(f,names=[\"muck_name\",\"screen_name\",\"muck_role\",\"muck_url\"])\n",
    "    dat['muck_org'] = org.lower()\n",
    "    writers_only.append(dat)\n",
    "writer_data = pd.concat(writers_only,axis=0)"
   ]
  },
  {
   "cell_type": "code",
   "execution_count": 4,
   "metadata": {
    "collapsed": false
   },
   "outputs": [
    {
     "name": "stdout",
     "output_type": "stream",
     "text": [
      "(1363, 23) (1445, 5) (1363, 19)\n"
     ]
    }
   ],
   "source": [
    "# merge\n",
    "user_info = pd.merge(basic_info,writer_data,on='screen_name')\n",
    "user_info = user_info.drop_duplicates(\"uid\")\n",
    "print user_info.shape, writer_data.shape, basic_info.shape"
   ]
  },
  {
   "cell_type": "code",
   "execution_count": 5,
   "metadata": {
    "collapsed": false
   },
   "outputs": [
    {
     "data": {
      "text/plain": [
       "True     866\n",
       "False    497\n",
       "Name: verified, dtype: int64"
      ]
     },
     "execution_count": 5,
     "metadata": {},
     "output_type": "execute_result"
    }
   ],
   "source": [
    "user_info.verified.value_counts()"
   ]
  },
  {
   "cell_type": "code",
   "execution_count": 6,
   "metadata": {
    "collapsed": false
   },
   "outputs": [],
   "source": [
    "user_info = user_info[~user_info.muck_org.isin(['guardian','bbc','dailymail','jpost'])]\n",
    "user_info = user_info[user_info.friends_count > 50]"
   ]
  },
  {
   "cell_type": "code",
   "execution_count": 7,
   "metadata": {
    "collapsed": false
   },
   "outputs": [
    {
     "data": {
      "text/plain": [
       "[('Reporter', 481),\n",
       " ('Editor', 164),\n",
       " ('and', 159),\n",
       " ('Correspondent', 118),\n",
       " ('Writer', 106)]"
      ]
     },
     "execution_count": 7,
     "metadata": {},
     "output_type": "execute_result"
    }
   ],
   "source": [
    "Counter([x for y in user_info.muck_role for x in y.split()]).most_common()[:5]"
   ]
  },
  {
   "cell_type": "code",
   "execution_count": 8,
   "metadata": {
    "collapsed": false
   },
   "outputs": [
    {
     "data": {
      "text/plain": [
       "Staff Writer              28\n",
       "Columnist                 28\n",
       "Political Reporter        21\n",
       "Congressional Reporter    15\n",
       "Name: muck_role, dtype: int64"
      ]
     },
     "execution_count": 8,
     "metadata": {},
     "output_type": "execute_result"
    }
   ],
   "source": [
    "user_info.muck_role.value_counts()[1:5]"
   ]
  },
  {
   "cell_type": "code",
   "execution_count": 9,
   "metadata": {
    "collapsed": true
   },
   "outputs": [],
   "source": [
    "of = open(\"data/user_ids.txt\",\"w\")\n",
    "[of.write(x+\"\\n\") for x in user_info.uid.tolist()]\n",
    "of.close()"
   ]
  },
  {
   "cell_type": "code",
   "execution_count": 10,
   "metadata": {
    "collapsed": false
   },
   "outputs": [
    {
     "data": {
      "text/plain": [
       "(1123, 23)"
      ]
     },
     "execution_count": 10,
     "metadata": {},
     "output_type": "execute_result"
    }
   ],
   "source": [
    "user_info.shape"
   ]
  },
  {
   "cell_type": "markdown",
   "metadata": {},
   "source": [
    "# Combine with Conservative/Liberal Scales"
   ]
  },
  {
   "cell_type": "code",
   "execution_count": 11,
   "metadata": {
    "collapsed": false
   },
   "outputs": [],
   "source": [
    "# all muckrack outlets\n",
    "# Can use to check for if we want more data \n",
    "# med_out = pd.read_csv(\"ALLmuckrack_mediaOutlets.csv\")\n",
    "# med_out = med_out[med_out['Media Type'].isin([\"Newspaper\",\"Online/Digital\",\"Magazine\"])]\n",
    "# fb_cons_lib_scale = pd.read_csv(\"top500.csv\")[['domain','avg_align']]\n",
    "# pd.merge(fb_cons_lib_scale,med_out,left_on=\"domain\",right_on=\"Website\").sort_values(\"avg_align\",ascending=False)[30:50]"
   ]
  },
  {
   "cell_type": "code",
   "execution_count": 13,
   "metadata": {
    "collapsed": false
   },
   "outputs": [],
   "source": [
    "# Organizations of interest to the present work\n",
    "org_info = pd.read_csv(\"data/org_info.tsv\",sep=\"\\t\")\n",
    "org_info = org_info[~org_info.muckrack_slug.isnull()]\n",
    "org_info = org_info[~org_info.muckrack_slug.isin([\"slate\",\"salon\"])]\n",
    "\n",
    "# Bakshy data\n",
    "fb_cons_lib_scale = pd.read_csv(\"data/top500.csv\")[['domain','avg_align']]\n",
    "web_to_org = {}\n",
    "for k, v in org_info.iterrows():\n",
    "    for website in v['media_website'].split(\",\"):\n",
    "        web_to_org[website] = v['muckrack_slug']\n",
    "fb_cons_lib_scale['Source'] = fb_cons_lib_scale.apply(lambda x: web_to_org.get(x['domain'],\"\"),axis=1)\n",
    "fb_cons_lib_scale = fb_cons_lib_scale[fb_cons_lib_scale.Source != \"\"].groupby(\"Source\").avg_align.mean().reset_index()"
   ]
  },
  {
   "cell_type": "code",
   "execution_count": 14,
   "metadata": {
    "collapsed": false
   },
   "outputs": [
    {
     "data": {
      "text/plain": [
       "{'bbc', 'dailymail', 'guardian', 'jpost'}"
      ]
     },
     "execution_count": 14,
     "metadata": {},
     "output_type": "execute_result"
    }
   ],
   "source": [
    "set(org_info.muckrack_slug) - set(user_info.muck_org) "
   ]
  },
  {
   "cell_type": "code",
   "execution_count": 15,
   "metadata": {
    "collapsed": false
   },
   "outputs": [
    {
     "data": {
      "text/plain": [
       "set()"
      ]
     },
     "execution_count": 15,
     "metadata": {},
     "output_type": "execute_result"
    }
   ],
   "source": [
    "set(user_info.muck_org) - set(org_info.muckrack_slug) "
   ]
  },
  {
   "cell_type": "code",
   "execution_count": 16,
   "metadata": {
    "collapsed": false
   },
   "outputs": [
    {
     "name": "stdout",
     "output_type": "stream",
     "text": [
      "(1123, 27)\n"
     ]
    },
    {
     "data": {
      "text/plain": [
       "(1123, 29)"
      ]
     },
     "execution_count": 16,
     "metadata": {},
     "output_type": "execute_result"
    }
   ],
   "source": [
    "# Merge in only FB scores, for now\n",
    "user_info['muck_org']  = user_info.muck_org.str.lower()\n",
    "user_info = pd.merge(user_info,org_info,left_on=\"muck_org\",right_on=\"muckrack_slug\")\n",
    "print user_info.shape\n",
    "user_info = pd.merge(user_info,fb_cons_lib_scale,left_on=\"muck_org\",right_on=\"Source\",how=\"left\")\n",
    "user_info.shape"
   ]
  },
  {
   "cell_type": "markdown",
   "metadata": {},
   "source": [
    "# Read in Politician Data"
   ]
  },
  {
   "cell_type": "code",
   "execution_count": 3,
   "metadata": {
    "collapsed": false
   },
   "outputs": [],
   "source": [
    "leg_sm = yaml.load(open(\"data/legislators-social-media.yaml\"))"
   ]
  },
  {
   "cell_type": "code",
   "execution_count": 4,
   "metadata": {
    "collapsed": false
   },
   "outputs": [],
   "source": [
    "tw_id_to_bio = pd.DataFrame([(x['id']['govtrack'],str(x['social']['twitter_id'])) \n",
    "                                for x in leg_sm if 'twitter_id' in x['social'] and 'govtrack' in x['id']],\n",
    "                            columns=['ID','tw_id'])"
   ]
  },
  {
   "cell_type": "code",
   "execution_count": 5,
   "metadata": {
    "collapsed": false,
    "scrolled": true
   },
   "outputs": [
    {
     "data": {
      "text/plain": [
       "<seaborn.axisgrid.FacetGrid at 0x1060e5a90>"
      ]
     },
     "execution_count": 5,
     "metadata": {},
     "output_type": "execute_result"
    },
    {
     "data": {
      "image/png": "[encoded data removed]",
      "text/plain": [
       "<matplotlib.figure.Figure at 0x1060e5ad0>"
      ]
     },
     "metadata": {},
     "output_type": "display_data"
    }
   ],
   "source": [
    "scores = pd.concat((pd.read_csv(\"data/sponsorshipanalysis_h.txt\"),\n",
    "                    pd.read_csv(\"data/sponsorshipanalysis_s.txt\")))\n",
    "scores = pd.merge(tw_id_to_bio,scores,on=\"ID\")\n",
    "scores['ID'] = scores.ID.astype(str)\n",
    "scores.columns = [x.strip() for x in scores.columns]\n",
    "scores['ideology'] = scale(scores.ideology)\n",
    "\n",
    "g = sns.FacetGrid(scores[scores.party.isin([\" Republican\",\" Democrat\"])], col=\"party\")\n",
    "g.map(plt.hist, \"ideology\", color=\"steelblue\")"
   ]
  },
  {
   "cell_type": "code",
   "execution_count": 7,
   "metadata": {
    "collapsed": false
   },
   "outputs": [
    {
     "data": {
      "text/plain": [
       "(523, 11)"
      ]
     },
     "execution_count": 7,
     "metadata": {},
     "output_type": "execute_result"
    }
   ],
   "source": [
    "scores.shape"
   ]
  },
  {
   "cell_type": "markdown",
   "metadata": {},
   "source": [
    "# Follower/Friend Networks"
   ]
  },
  {
   "cell_type": "code",
   "execution_count": 21,
   "metadata": {
    "collapsed": false
   },
   "outputs": [],
   "source": [
    "def get_friend_or_fol(data_dir,dir_file_name,reporter_uids,user_info):\n",
    "    gone = 0\n",
    "    full_map = defaultdict(list)\n",
    "    reporter_map = defaultdict(list)\n",
    "    all_res = Counter()\n",
    "    for i,uid_df in user_info.iterrows():\n",
    "        uid = str(uid_df.uid)\n",
    "        fil = os.path.join(data_dir,uid_df[str(dir_file_name)])\n",
    "        if os.path.exists(fil):\n",
    "            all_d =  [x.strip() for x in open(fil)]\n",
    "            full_map[uid] = all_d\n",
    "            all_res.update(all_d)\n",
    "            reporter_map[uid] = [x for x in all_d if x.strip() in reporter_uids]\n",
    "        else:\n",
    "            gone +=1 \n",
    "    counts = pd.DataFrame(Counter([len(x) for x in reporter_map.values()]).most_common(),columns=['x','y'])\n",
    "    medv = np.median(np.array([len(x) for x in reporter_map.values()]))\n",
    "    r = scipy.stats.describe(np.array([len(x) for x in reporter_map.values()]))\n",
    "    print tsn([\"Missing:\", gone, \"Mean:\",r.mean, \"Median:\", medv, \"Variance:\", r.variance],newline=False)\n",
    "    #sns.lmplot('x','y',fr_counts, fit_reg=False)\n",
    "    return reporter_map, full_map, all_res\n"
   ]
  },
  {
   "cell_type": "code",
   "execution_count": 22,
   "metadata": {
    "collapsed": false
   },
   "outputs": [
    {
     "name": "stdout",
     "output_type": "stream",
     "text": [
      "Missing:\t0\tMean:\t84.3517364203\tMedian:\t65.0\tVariance:\t6190.77724074\n"
     ]
    }
   ],
   "source": [
    "reporter_uids = set(user_info.uid.tolist())\n",
    "\n",
    "(_, \n",
    " reporter_friend_map, \n",
    " reporter_all_friends) = get_friend_or_fol(\"data/reporter_friends\", 'uid',reporter_uids,user_info)\n"
   ]
  },
  {
   "cell_type": "code",
   "execution_count": 24,
   "metadata": {
    "collapsed": false
   },
   "outputs": [
    {
     "name": "stdout",
     "output_type": "stream",
     "text": [
      "Missing:\t0\tMean:\t3.81151570702\tMedian:\t1.0\tVariance:\t76.9481373774\n"
     ]
    }
   ],
   "source": [
    "# get basic Twitter information\n",
    "heavypol_user_info = read_simple_user_info(\"data/heavy_pol_basic_twitter_info.tsv\")\n",
    "heavypol_user_info = heavypol_user_info[~heavypol_user_info.uid.isin(user_info.uid)]\n",
    "heavypol_users = set(heavypol_user_info.uid)\n",
    "\n",
    "(_, \n",
    " heavypol_friend_map, \n",
    " heavypol_all_friends) = get_friend_or_fol(\"data/heavy_user_friends\", 'uid',heavypol_users,heavypol_user_info)"
   ]
  },
  {
   "cell_type": "code",
   "execution_count": 25,
   "metadata": {
    "collapsed": false
   },
   "outputs": [
    {
     "name": "stdout",
     "output_type": "stream",
     "text": [
      "1123 539045 1123\n",
      "12001 3751076 12001\n"
     ]
    }
   ],
   "source": [
    "print len(reporter_friend_map), len(reporter_all_friends),  len(reporter_uids)\n",
    "print len(heavypol_friend_map), len(heavypol_all_friends),  len(heavypol_users)"
   ]
  },
  {
   "cell_type": "markdown",
   "metadata": {},
   "source": [
    "# Run SVD"
   ]
  },
  {
   "cell_type": "code",
   "execution_count": 26,
   "metadata": {
    "collapsed": false
   },
   "outputs": [],
   "source": [
    "def convertPPMI(mat):\n",
    "    \"\"\"\n",
    "     Compute the PPMI values for a raw co-occurrence matrix.\n",
    "     PPMI values will be written to mat and it will get overwritten.\n",
    "     \"\"\"    \n",
    "    (nrows, ncols) = mat.shape\n",
    "    print \"no. of rows =\", nrows\n",
    "    print \"no. of cols =\", ncols\n",
    "    colTotals = mat.sum(axis=0)\n",
    "    rowTotals = mat.sum(axis=1).T\n",
    "    N = np.sum(rowTotals)\n",
    "    rowMat = np.ones((nrows, ncols), dtype=np.float)\n",
    "    for i in range(nrows):\n",
    "        rowMat[i,:] = 0 if rowTotals[i] == 0 else rowMat[i,:] * (1.0 / rowTotals[i])\n",
    "    colMat = np.ones((nrows, ncols), dtype=np.float) \n",
    "    for j in range(ncols):\n",
    "        colMat[:,j] = 0 if colTotals[j] == 0 else (1.0 / colTotals[j])\n",
    "    P = N * mat * rowMat * colMat\n",
    "    P = np.fmax(np.zeros((nrows,ncols), dtype=np.float64), np.log(P))\n",
    "    return P"
   ]
  },
  {
   "cell_type": "code",
   "execution_count": 27,
   "metadata": {
    "collapsed": false
   },
   "outputs": [
    {
     "data": {
      "text/plain": [
       "131.24"
      ]
     },
     "execution_count": 27,
     "metadata": {},
     "output_type": "execute_result"
    }
   ],
   "source": [
    "(len(user_info)+len(heavypol_user_info)) *.01"
   ]
  },
  {
   "cell_type": "code",
   "execution_count": 28,
   "metadata": {
    "collapsed": false
   },
   "outputs": [],
   "source": [
    "friend_df = pd.DataFrame(reporter_all_friends.most_common() + heavypol_all_friends.most_common(),columns=['x','y'])\n",
    "friend_df = friend_df[(friend_df.y > ((len(user_info)+len(heavypol_user_info)) *.02)) |\n",
    "                      (friend_df.x.isin(tw_id_to_bio.tw_id))]\n",
    "all_interesting_friends = set(friend_df.x)\n"
   ]
  },
  {
   "cell_type": "code",
   "execution_count": 29,
   "metadata": {
    "collapsed": false
   },
   "outputs": [
    {
     "data": {
      "text/plain": [
       "3051"
      ]
     },
     "execution_count": 29,
     "metadata": {},
     "output_type": "execute_result"
    }
   ],
   "source": [
    "len(all_interesting_friends)"
   ]
  },
  {
   "cell_type": "code",
   "execution_count": 30,
   "metadata": {
    "collapsed": true
   },
   "outputs": [],
   "source": [
    "friend_net = []\n",
    "for reporter, friends in reporter_friend_map.iteritems():\n",
    "    friend_net += [(reporter,elite,1) for elite in set(friends) & all_interesting_friends]\n",
    "\n",
    "for heavypol_user, friends in heavypol_friend_map.iteritems():\n",
    "    friend_net += [(heavypol_user,elite,1) for elite in set(friends) & all_interesting_friends]\n",
    "\n",
    "friend_net = pd.DataFrame(friend_net)"
   ]
  },
  {
   "cell_type": "code",
   "execution_count": 31,
   "metadata": {
    "collapsed": false
   },
   "outputs": [],
   "source": [
    "field_to_user_count = friend_net.copy()\n",
    "field_to_user_count.columns=[\"reporter_heavypol\",\"elite\",\"value\"]"
   ]
  },
  {
   "cell_type": "code",
   "execution_count": 32,
   "metadata": {
    "collapsed": false
   },
   "outputs": [],
   "source": [
    "data_matrix = field_to_user_count.pivot(\"reporter_heavypol\",\"elite\",\"value\")\n",
    "data_matrix.fillna(0,inplace=True)"
   ]
  },
  {
   "cell_type": "code",
   "execution_count": 33,
   "metadata": {
    "collapsed": false
   },
   "outputs": [
    {
     "name": "stdout",
     "output_type": "stream",
     "text": [
      "no. of rows = 12353\n",
      "no. of cols = 3051\n"
     ]
    },
    {
     "name": "stderr",
     "output_type": "stream",
     "text": [
      "/Users/kennyjoseph/anaconda/lib/python2.7/site-packages/ipykernel/__main__.py:19: RuntimeWarning: divide by zero encountered in log\n"
     ]
    }
   ],
   "source": [
    "ppm = data_matrix\n",
    "ppmi_matrix = convertPPMI(ppm.as_matrix())\n",
    "#ppmi_matrix = data_matrix.as_matrix()"
   ]
  },
  {
   "cell_type": "markdown",
   "metadata": {
    "collapsed": false
   },
   "source": [
    "# Run SVD\n"
   ]
  },
  {
   "cell_type": "code",
   "execution_count": 34,
   "metadata": {
    "collapsed": false
   },
   "outputs": [],
   "source": [
    "# Determine basic scores for reporters\n",
    "studied_uids = set(user_info.uid.tolist() + heavypol_user_info.uid.tolist())\n",
    "pol_follow_map = []\n",
    "for fil in glob.glob(\"data/congress_followers/*\"):\n",
    "    u_name = basename(fil)\n",
    "    followers = set([x.strip() for x in open(fil)])\n",
    "    for u in followers & studied_uids:\n",
    "        pol_follow_map.append((u,u_name))"
   ]
  },
  {
   "cell_type": "code",
   "execution_count": 35,
   "metadata": {
    "collapsed": false
   },
   "outputs": [],
   "source": [
    "all_user_info = pd.concat((user_info,heavypol_user_info),axis=0)\n",
    "\n",
    "pol_follow = pd.DataFrame(pol_follow_map,columns=['reporter_id','tw_id'])\n",
    "pol_follow = pd.merge(pol_follow,scores,on=\"tw_id\")\n",
    "pol_follow = pd.merge(pol_follow,all_user_info,left_on='reporter_id',right_on='uid')\n",
    "pf = pd.merge(pol_follow.groupby(\"uid\").ideology.mean().reset_index(),\n",
    "              pol_follow.groupby(\"uid\").size().reset_index(), on=\"uid\")\n",
    "pf.columns = ['uid','mean_ideology_following',\"n_pol_follows\"]\n",
    "\n",
    "all_user_info = pd.merge(all_user_info,pf,on=\"uid\",how='left')\n",
    "all_user_info['n_pol_follows'] = all_user_info.n_pol_follows.fillna(0)\n"
   ]
  },
  {
   "cell_type": "code",
   "execution_count": 36,
   "metadata": {
    "collapsed": true
   },
   "outputs": [],
   "source": [
    "n_svd_dimensions = 5\n",
    "U, s, V = svds(ppmi_matrix,k=n_svd_dimensions)"
   ]
  },
  {
   "cell_type": "code",
   "execution_count": 37,
   "metadata": {
    "collapsed": false
   },
   "outputs": [
    {
     "data": {
      "text/plain": [
       "<matplotlib.figure.Figure at 0x124886ed0>"
      ]
     },
     "metadata": {},
     "output_type": "display_data"
    },
    {
     "data": {
      "image/png": "[encoded data removed]",
      "text/plain": [
       "<matplotlib.figure.Figure at 0x12289ccd0>"
      ]
     },
     "metadata": {},
     "output_type": "display_data"
    }
   ],
   "source": [
    "# put the SVD result into a dataframe\n",
    "svd_result_U = pd.DataFrame(U,columns=['d'+str(i) for i in range(n_svd_dimensions)])\n",
    "svd_result_U['source'] = data_matrix.reset_index().reporter_heavypol\n",
    "\n",
    "svd_res_u = pd.merge(svd_result_U,all_user_info,left_on=\"source\",right_on='uid')\n",
    "#svd_res_u = pd.merge(svd_res_u,pol_follow.groupby(\"uid\").ideology.mean().reset_index(), on=\"uid\",how=\"left\")\n",
    "svd_res_u.to_csv(\"output/svdr.csv\")\n",
    "\n",
    "svd_result_V = pd.DataFrame(V.T,columns=['d'+str(i) for i in range(n_svd_dimensions)])\n",
    "svd_result_V['source'] = data_matrix.columns\n",
    "svd_res_v = pd.merge(svd_result_V,scores[['tw_id','ideology']],left_on='source',right_on='tw_id',how=\"left\")\n",
    "svd_res_v.to_csv(\"output/svdv.csv\")\n",
    "\n",
    "d= svd_res_u[['d'+str(i) for i in range(n_svd_dimensions)] + ['muck_org']].groupby(\"muck_org\").mean()\n",
    "\n",
    "d = pd.DataFrame(cosine_similarity( d[['d'+str(i) for i in range(n_svd_dimensions)]].as_matrix()),\n",
    "                 columns=d.index)\n",
    "d.index = d.columns\n",
    "\n",
    "plt.figure(figsize=(7, 7))\n",
    "g = sns.clustermap(d)\n",
    "x = plt.setp(g.ax_heatmap.get_yticklabels(), rotation=0)"
   ]
  },
  {
   "cell_type": "code",
   "execution_count": null,
   "metadata": {
    "collapsed": true
   },
   "outputs": [],
   "source": []
  }
 ],
 "metadata": {
  "kernelspec": {
   "display_name": "Python 2",
   "language": "python",
   "name": "python2"
  },
  "language_info": {
   "codemirror_mode": {
    "name": "ipython",
    "version": 2
   },
   "file_extension": ".py",
   "mimetype": "text/x-python",
   "name": "python",
   "nbconvert_exporter": "python",
   "pygments_lexer": "ipython2",
   "version": "2.7.11"
  }
 },
 "nbformat": 4,
 "nbformat_minor": 0
}
